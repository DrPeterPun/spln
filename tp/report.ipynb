{
 "cells": [
  {
   "cell_type": "markdown",
   "metadata": {},
   "source": [
    "# **TextBlob: Simplified Text Processing**\n",
    "\n",
    "## **Overview**\n",
    "\n",
    "TextBlob é uma biblioteca de Python que tem como principal objetivo o processamento de textos. Este fornece uma API simples que permite aos utilizadores realizar tarefas comuns de PLN (Processamento de Linguagem Natural), tais como etiquetar textos, extrair nomes de frases, análise de sentimentos, classificação, tradução, entre outros.\n",
    "\n",
    "O TextBlob dá uso às bibliotecas [NLTK (Natural Language Toolkit)](https://www.nltk.org/) e Pattern.\n",
    "\n",
    "**Funcionalidades:**\n",
    "- extração de nomes de frases\n",
    "- etiquetar textos\n",
    "- análise de sentimentos\n",
    "- classificação (_Naive Bayes_ e _Decision Tree_)\n",
    "- tokenização (dividir o texto em palavras e frases)\n",
    "- frequência de palavras e frases\n",
    "- _parsing_\n",
    "- _n-grams_\n",
    "- inflexão de palavras (colocar as palavras no plural ou no singular) e lematização\n",
    "- corretor ortográfico\n",
    "- adicionar novos modelos e linguagens através de extensões\n",
    "- integração do [WordNet](https://wordnet.princeton.edu/)\n",
    "\n",
    "## **Walkthrough**\n",
    "\n",
    "### **Instalação:**\n",
    "\n",
    "    $ pip install -U textblob\n",
    "    $ python -m textblob.download_corpora\n",
    "\n",
    "### **Criação de um TextBlob:**"
   ]
  },
  {
   "cell_type": "code",
   "execution_count": 1,
   "metadata": {},
   "outputs": [],
   "source": [
    "from textblob import TextBlob\n",
    "\n",
    "alice = TextBlob(\"Alice lived in a beautiful house.\")"
   ]
  },
  {
   "cell_type": "markdown",
   "metadata": {},
   "source": [
    "### **🗣 _Part-of-speech Tagging_**\n",
    "\n",
    "O _Part of speech tagging_ (POS _tagging_) é um processo que atribui uma etiqueta a cada palavra de um texto, tendo em conta a sua definição e o contexto em que esta se encontra. \n",
    "\n",
    "Algumas das etiquetas disponíveis:\n",
    "- **NN:** nome singular\n",
    "- **JJ:** adjetivo\n",
    "- **VBD:** verbo no passado\n",
    "- **IN:** preposição\n",
    "- **DT:** determinante\n",
    "- **NNP:** nome próprio\n",
    "\n",
    "[Referência](https://www.guru99.com/pos-tagging-chunking-nltk.html)"
   ]
  },
  {
   "cell_type": "code",
   "execution_count": 2,
   "metadata": {},
   "outputs": [
    {
     "data": {
      "text/plain": [
       "[('Alice', 'NNP'),\n",
       " ('lived', 'VBD'),\n",
       " ('in', 'IN'),\n",
       " ('a', 'DT'),\n",
       " ('beautiful', 'JJ'),\n",
       " ('house', 'NN')]"
      ]
     },
     "execution_count": 2,
     "metadata": {},
     "output_type": "execute_result"
    }
   ],
   "source": [
    "alice.tags"
   ]
  },
  {
   "cell_type": "markdown",
   "metadata": {},
   "source": [
    "### **⛏ Extração de _noun phrases_**"
   ]
  },
  {
   "cell_type": "code",
   "execution_count": 3,
   "metadata": {},
   "outputs": [
    {
     "data": {
      "text/plain": [
       "WordList(['alice', 'beautiful house'])"
      ]
     },
     "execution_count": 3,
     "metadata": {},
     "output_type": "execute_result"
    }
   ],
   "source": [
    "alice.noun_phrases"
   ]
  },
  {
   "cell_type": "markdown",
   "metadata": {},
   "source": [
    "### **😊 Análise de sentimentos**\n",
    "\n",
    "A propriedade _sentiment_ retorna um tuplo com a seguinte forma:\n",
    "\n",
    "        Sentiment(polarity, subjectivity)\n",
    "\n",
    "no qual:\n",
    "- **polarity:** float pertencente ao intervalo [-1.0, 1.0], onde valores negativos significam polaridade negativa e valores positivos significam polaridade positiva.\n",
    "- **subjectivity:** float pertencente ao intervalo [0.0, 1.0], onde 0.0 significa muito objetivo e 1.0 significa muito subjetivo."
   ]
  },
  {
   "cell_type": "code",
   "execution_count": 4,
   "metadata": {},
   "outputs": [
    {
     "data": {
      "text/plain": [
       "Sentiment(polarity=0.9, subjectivity=0.9)"
      ]
     },
     "execution_count": 4,
     "metadata": {},
     "output_type": "execute_result"
    }
   ],
   "source": [
    "phrase = TextBlob(\"I'm feeling really incredible.\")\n",
    "phrase.sentiment\n",
    "\n",
    "# Devolver apenas a polaridade\n",
    "#wiki.sentiment.polarity\n",
    "\n",
    "# Devolver apenas a subjetividade\n",
    "#wiki.sentiment.subjectivity"
   ]
  },
  {
   "cell_type": "markdown",
   "metadata": {},
   "source": [
    "### **🔪 Tokenização:**"
   ]
  },
  {
   "cell_type": "markdown",
   "metadata": {},
   "source": [
    "É possível repartir os TextBlobs em palavras ou em frases:"
   ]
  },
  {
   "cell_type": "code",
   "execution_count": 5,
   "metadata": {},
   "outputs": [
    {
     "data": {
      "text/plain": [
       "WordList(['Hey', 'Jude', 'do', \"n't\", 'make', 'it', 'bad', 'Take', 'a', 'sad', 'song', 'and', 'make', 'it', 'better', 'Remember', 'to', 'let', 'her', 'into', 'your', 'heart', 'then', 'you', 'can', 'start', 'to', 'make', 'it', 'better'])"
      ]
     },
     "execution_count": 5,
     "metadata": {},
     "output_type": "execute_result"
    }
   ],
   "source": [
    "jude = TextBlob(\"Hey Jude, don't make it bad. Take a sad song and make it better. \"\n",
    "                \"Remember to let her into your heart, then you can start to make it better.\")\n",
    "\n",
    "jude.words"
   ]
  },
  {
   "cell_type": "code",
   "execution_count": 6,
   "metadata": {},
   "outputs": [
    {
     "data": {
      "text/plain": [
       "[Sentence(\"Hey Jude, don't make it bad.\"),\n",
       " Sentence(\"Take a sad song and make it better.\"),\n",
       " Sentence(\"Remember to let her into your heart, then you can start to make it better.\")]"
      ]
     },
     "execution_count": 6,
     "metadata": {},
     "output_type": "execute_result"
    }
   ],
   "source": [
    "jude.sentences"
   ]
  },
  {
   "cell_type": "markdown",
   "metadata": {},
   "source": [
    "**Nota:** Os objetos _sentence_ têm as mesmas propriedades e métodos que os TextBlobs.\n",
    "\n",
    "### **📝 Inflexão e lematização de palavras**\n",
    "\n",
    "Cada palavra presente em TextBlob.words e Sentence.words é um objeto Word que contém métodos úteis, como é o caso da inflexão de palavras (colocar palavras no plural ou no singular)."
   ]
  },
  {
   "cell_type": "code",
   "execution_count": 7,
   "metadata": {},
   "outputs": [
    {
     "data": {
      "text/plain": [
       "WordList(['It', 'is', 'the', 'brain', 'the', 'little', 'grey', 'cells', 'on', 'which', 'one', 'must', 'rely', 'One', 'must', 'seek', 'the', 'truth', 'within', 'not', 'without'])"
      ]
     },
     "execution_count": 7,
     "metadata": {},
     "output_type": "execute_result"
    }
   ],
   "source": [
    "poirot = TextBlob(\"It is the brain, the little grey cells on which one must rely. One must seek the truth within - not without.\")\n",
    "poirot.words"
   ]
  },
  {
   "cell_type": "code",
   "execution_count": 8,
   "metadata": {},
   "outputs": [
    {
     "data": {
      "text/plain": [
       "'brains'"
      ]
     },
     "execution_count": 8,
     "metadata": {},
     "output_type": "execute_result"
    }
   ],
   "source": [
    "poirot.words[3].pluralize()"
   ]
  },
  {
   "cell_type": "code",
   "execution_count": 9,
   "metadata": {},
   "outputs": [
    {
     "data": {
      "text/plain": [
       "'cell'"
      ]
     },
     "execution_count": 9,
     "metadata": {},
     "output_type": "execute_result"
    }
   ],
   "source": [
    "poirot.words[7].singularize()"
   ]
  },
  {
   "cell_type": "code",
   "execution_count": 10,
   "metadata": {},
   "outputs": [
    {
     "data": {
      "text/plain": [
       "'cars'"
      ]
     },
     "execution_count": 10,
     "metadata": {},
     "output_type": "execute_result"
    }
   ],
   "source": [
    "from textblob import Word\n",
    "\n",
    "Word(\"car\").pluralize()"
   ]
  },
  {
   "cell_type": "markdown",
   "metadata": {},
   "source": [
    "Os objetos Word podem também ser lematizados através do método lemmatize:"
   ]
  },
  {
   "cell_type": "code",
   "execution_count": 11,
   "metadata": {},
   "outputs": [
    {
     "data": {
      "text/plain": [
       "'car'"
      ]
     },
     "execution_count": 11,
     "metadata": {},
     "output_type": "execute_result"
    }
   ],
   "source": [
    "from textblob import Word\n",
    "\n",
    "w1 = Word(\"cars\")\n",
    "w1.lemmatize()"
   ]
  },
  {
   "cell_type": "code",
   "execution_count": 12,
   "metadata": {},
   "outputs": [
    {
     "data": {
      "text/plain": [
       "'be'"
      ]
     },
     "execution_count": 12,
     "metadata": {},
     "output_type": "execute_result"
    }
   ],
   "source": [
    "w2 = Word(\"am\")\n",
    "\n",
    "# Indicação do part of speech, neste caso um verbo (v)\n",
    "w2.lemmatize(\"v\")"
   ]
  },
  {
   "cell_type": "markdown",
   "metadata": {},
   "source": [
    "### **📖 Integração do WordNet:**\n",
    "\n",
    "É possível obter os [synsets](https://www.geeksforgeeks.org/nlp-synsets-for-a-word-in-wordnet/) de um objeto Word, bem como consultar a definição de cada um destes:"
   ]
  },
  {
   "cell_type": "code",
   "execution_count": 13,
   "metadata": {},
   "outputs": [
    {
     "data": {
      "text/plain": [
       "[Synset('rainbow.n.01'), Synset('rainbow.n.02')]"
      ]
     },
     "execution_count": 13,
     "metadata": {},
     "output_type": "execute_result"
    }
   ],
   "source": [
    "w3 = Word(\"rainbow\")\n",
    "w3.synsets"
   ]
  },
  {
   "cell_type": "code",
   "execution_count": 14,
   "metadata": {},
   "outputs": [
    {
     "data": {
      "text/plain": [
       "[\"an arc of colored light in the sky caused by refraction of the sun's rays by rain\",\n",
       " 'an illusory hope']"
      ]
     },
     "execution_count": 14,
     "metadata": {},
     "output_type": "execute_result"
    }
   ],
   "source": [
    "w3.definitions"
   ]
  },
  {
   "cell_type": "markdown",
   "metadata": {},
   "source": [
    "### **💬 WordLists**\n",
    "\n",
    "Uma WordList é uma lista de Python com métodos adicionais."
   ]
  },
  {
   "cell_type": "code",
   "execution_count": 15,
   "metadata": {},
   "outputs": [
    {
     "data": {
      "text/plain": [
       "WordList(['potato', 'salad', 'pastry'])"
      ]
     },
     "execution_count": 15,
     "metadata": {},
     "output_type": "execute_result"
    }
   ],
   "source": [
    "food = TextBlob(\"potato salad pastry\")\n",
    "food.words"
   ]
  },
  {
   "cell_type": "code",
   "execution_count": 16,
   "metadata": {},
   "outputs": [
    {
     "data": {
      "text/plain": [
       "WordList(['potatoes', 'salads', 'pastries'])"
      ]
     },
     "execution_count": 16,
     "metadata": {},
     "output_type": "execute_result"
    }
   ],
   "source": [
    "food.words.pluralize()"
   ]
  },
  {
   "cell_type": "markdown",
   "metadata": {},
   "source": [
    "### **❌ Spelling Correction**"
   ]
  },
  {
   "cell_type": "code",
   "execution_count": 17,
   "metadata": {},
   "outputs": [
    {
     "name": "stdout",
     "output_type": "stream",
     "text": [
      "Somewhere over te rainbow\n"
     ]
    }
   ],
   "source": [
    "wrong = TextBlob(\"Somewere over te ranbow\")\n",
    "print(wrong.correct())"
   ]
  },
  {
   "cell_type": "markdown",
   "metadata": {},
   "source": [
    "Objetos do tipo Word possuem o método spellcheck() que retorna uma lista de tuplos do tipo:\n",
    "\n",
    "    (word, confidence)"
   ]
  },
  {
   "cell_type": "code",
   "execution_count": 18,
   "metadata": {},
   "outputs": [
    {
     "data": {
      "text/plain": [
       "[('rainbow', 1.0)]"
      ]
     },
     "execution_count": 18,
     "metadata": {},
     "output_type": "execute_result"
    }
   ],
   "source": [
    "wrong.words[3].spellcheck()"
   ]
  },
  {
   "cell_type": "markdown",
   "metadata": {},
   "source": [
    "O corretor presente nesta biblioteca é baseado no \"How to Write a Spelling Corrector\" do Peter Norvig e tem uma _accuracy_ de cerca de 70%.\n",
    "\n",
    "### **🧮 Obter a frequência de nomes e _noun phrases_**\n",
    "\n",
    "**1.º método:**"
   ]
  },
  {
   "cell_type": "code",
   "execution_count": 19,
   "metadata": {},
   "outputs": [
    {
     "data": {
      "text/plain": [
       "2"
      ]
     },
     "execution_count": 19,
     "metadata": {},
     "output_type": "execute_result"
    }
   ],
   "source": [
    "poirot.word_counts['one']"
   ]
  },
  {
   "cell_type": "markdown",
   "metadata": {},
   "source": [
    "Este método não é _case sensitive_!\n",
    "\n",
    "**2.º método:**"
   ]
  },
  {
   "cell_type": "code",
   "execution_count": 20,
   "metadata": {},
   "outputs": [
    {
     "data": {
      "text/plain": [
       "1"
      ]
     },
     "execution_count": 20,
     "metadata": {},
     "output_type": "execute_result"
    }
   ],
   "source": [
    "poirot.words.count('one', case_sensitive=True)"
   ]
  },
  {
   "cell_type": "markdown",
   "metadata": {},
   "source": [
    "Este método permite especificar se a nossa procura é _case\\_sensitive_ ou não através do parâmetro case_sensitive. Contudo, este é opcional e o seu valor _default_ é false.\n",
    "\n",
    "Estes métodos podem também ser utilizados em _noun phrases_:"
   ]
  },
  {
   "cell_type": "code",
   "execution_count": 21,
   "metadata": {},
   "outputs": [
    {
     "data": {
      "text/plain": [
       "1"
      ]
     },
     "execution_count": 21,
     "metadata": {},
     "output_type": "execute_result"
    }
   ],
   "source": [
    "poirot.noun_phrases.count('grey cells')"
   ]
  },
  {
   "cell_type": "markdown",
   "metadata": {},
   "source": [
    "### **🖖 Parsing** "
   ]
  },
  {
   "cell_type": "code",
   "execution_count": 22,
   "metadata": {},
   "outputs": [
    {
     "name": "stdout",
     "output_type": "stream",
     "text": [
      "And/CC/O/O the/DT/B-NP/O dreams/NNS/I-NP/O that/IN/B-PP/B-PNP you/PRP/B-NP/I-PNP dare/VB/B-VP/O to/TO/B-PP/B-PNP dream/NN/B-NP/I-PNP really/RB/B-VP/O do/VBP/I-VP/O come/VB/I-VP/O true/JJ/B-ADJP/O ././O/O\n"
     ]
    }
   ],
   "source": [
    "anotherPhrase = TextBlob(\"And the dreams that you dare to dream really do come true.\")\n",
    "print(anotherPhrase.parse())"
   ]
  },
  {
   "cell_type": "markdown",
   "metadata": {},
   "source": [
    "Este método utiliza a _pattern library_ edificada por Tom de Smedt. O link para a documentação encontra-se indisponível, por isso não consegui descodificar as tags adicionadas aos texto."
   ]
  },
  {
   "cell_type": "markdown",
   "metadata": {},
   "source": [
    "### **🐍 Os TextBlobs comportam-se como strings de Python!**\n",
    "\n",
    "🔸 Substrings:"
   ]
  },
  {
   "cell_type": "code",
   "execution_count": 23,
   "metadata": {},
   "outputs": [
    {
     "data": {
      "text/plain": [
       "TextBlob(\"It is the brain, the\")"
      ]
     },
     "execution_count": 23,
     "metadata": {},
     "output_type": "execute_result"
    }
   ],
   "source": [
    "poirot[0:20]"
   ]
  },
  {
   "cell_type": "markdown",
   "metadata": {},
   "source": [
    "🔸 Métodos comuns de strings:"
   ]
  },
  {
   "cell_type": "code",
   "execution_count": 24,
   "metadata": {},
   "outputs": [
    {
     "data": {
      "text/plain": [
       "TextBlob(\"IT IS THE BRAIN, THE LITTLE GREY CELLS ON WHICH ONE MUST RELY. ONE MUST SEEK THE TRUTH WITHIN - NOT WITHOUT.\")"
      ]
     },
     "execution_count": 24,
     "metadata": {},
     "output_type": "execute_result"
    }
   ],
   "source": [
    "poirot.upper()"
   ]
  },
  {
   "cell_type": "code",
   "execution_count": 25,
   "metadata": {},
   "outputs": [
    {
     "data": {
      "text/plain": [
       "33"
      ]
     },
     "execution_count": 25,
     "metadata": {},
     "output_type": "execute_result"
    }
   ],
   "source": [
    "poirot.find(\"cells\")"
   ]
  },
  {
   "cell_type": "markdown",
   "metadata": {},
   "source": [
    "**Nota:** O método find realiza uma pesquisa _case sensitive_.\n",
    "\n",
    "🔸 Comparação entre TextBlobs e strings:"
   ]
  },
  {
   "cell_type": "code",
   "execution_count": 26,
   "metadata": {},
   "outputs": [
    {
     "data": {
      "text/plain": [
       "False"
      ]
     },
     "execution_count": 26,
     "metadata": {},
     "output_type": "execute_result"
    }
   ],
   "source": [
    "tigerBlob = TextBlob('tiger')\n",
    "elephantBlob = TextBlob('elephant')\n",
    "tigerBlob < elephantBlob"
   ]
  },
  {
   "cell_type": "code",
   "execution_count": 27,
   "metadata": {},
   "outputs": [
    {
     "data": {
      "text/plain": [
       "True"
      ]
     },
     "execution_count": 27,
     "metadata": {},
     "output_type": "execute_result"
    }
   ],
   "source": [
    "tigerBlob == 'tiger'"
   ]
  },
  {
   "cell_type": "markdown",
   "metadata": {},
   "source": [
    "🔸 Concatenação e interpolação de TextBlobs e strings:"
   ]
  },
  {
   "cell_type": "code",
   "execution_count": 28,
   "metadata": {},
   "outputs": [
    {
     "data": {
      "text/plain": [
       "TextBlob(\"tiger and elephant\")"
      ]
     },
     "execution_count": 28,
     "metadata": {},
     "output_type": "execute_result"
    }
   ],
   "source": [
    "tigerBlob + ' and ' + elephantBlob"
   ]
  },
  {
   "cell_type": "code",
   "execution_count": 29,
   "metadata": {},
   "outputs": [
    {
     "data": {
      "text/plain": [
       "'tiger and elephant'"
      ]
     },
     "execution_count": 29,
     "metadata": {},
     "output_type": "execute_result"
    }
   ],
   "source": [
    "\"{0} and {1}\".format(tigerBlob, elephantBlob)"
   ]
  },
  {
   "cell_type": "markdown",
   "metadata": {},
   "source": [
    "### **🔗 N-grams**\n",
    "\n",
    "O método TextBlob.ngrams() retorna uma lista de tuplos com n palavras sucessivas."
   ]
  },
  {
   "cell_type": "code",
   "execution_count": 30,
   "metadata": {},
   "outputs": [
    {
     "data": {
      "text/plain": [
       "[WordList(['I', \"'m\", 'feeling']),\n",
       " WordList([\"'m\", 'feeling', 'really']),\n",
       " WordList(['feeling', 'really', 'incredible'])]"
      ]
     },
     "execution_count": 30,
     "metadata": {},
     "output_type": "execute_result"
    }
   ],
   "source": [
    "phrase.ngrams(n=3)"
   ]
  },
  {
   "cell_type": "markdown",
   "metadata": {},
   "source": [
    "### **📌 Obter os indices do início e do final de frases**"
   ]
  },
  {
   "cell_type": "code",
   "execution_count": 31,
   "metadata": {},
   "outputs": [
    {
     "name": "stdout",
     "output_type": "stream",
     "text": [
      "Hey Jude, don't make it bad.\n",
      "    > Starts at index 0 and ends at index 28\n",
      "Take a sad song and make it better.\n",
      "    > Starts at index 29 and ends at index 64\n",
      "Remember to let her into your heart, then you can start to make it better.\n",
      "    > Starts at index 65 and ends at index 139\n"
     ]
    }
   ],
   "source": [
    "for s in jude.sentences:\n",
    "    print(s)\n",
    "    print(\"    > Starts at index {} and ends at index {}\".format(s.start, s.end))"
   ]
  }
 ],
 "metadata": {
  "interpreter": {
   "hash": "40d3a090f54c6569ab1632332b64b2c03c39dcf918b08424e98f38b5ae0af88f"
  },
  "kernelspec": {
   "display_name": "",
   "language": "python",
   "name": "python3"
  },
  "language_info": {
   "codemirror_mode": {
    "name": "ipython",
    "version": 3
   },
   "file_extension": ".py",
   "mimetype": "text/x-python",
   "name": "python",
   "nbconvert_exporter": "python",
   "pygments_lexer": "ipython3",
   "version": "3.7.12"
  },
  "orig_nbformat": 4
 },
 "nbformat": 4,
 "nbformat_minor": 2
}
