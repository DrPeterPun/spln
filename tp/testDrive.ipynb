{
 "cells": [
  {
   "cell_type": "markdown",
   "metadata": {},
   "source": [
    "# **TextBlob**\n",
    "\n",
    "O meu primeiro TextBlob :)"
   ]
  },
  {
   "cell_type": "code",
   "execution_count": 42,
   "metadata": {},
   "outputs": [],
   "source": [
    "from textblob import TextBlob\n",
    "\n",
    "atla = TextBlob(\"Sokka said his first girlfriend turned into the moon.\")"
   ]
  },
  {
   "cell_type": "markdown",
   "metadata": {},
   "source": [
    "### **🗣 _Part-of-speech Tagging_**\n",
    "\n",
    "O _Part of speech tagging_ (POS _tagging_) é um processo que atribui uma etiqueta a cada palavra de um texto, tendo em conta a sua definição e o contexto em que esta se encontra. \n",
    "\n",
    "Algumas das etiquetas disponíveis:\n",
    "- **NN:** nome singular\n",
    "- **PRP$:** pronome possessivo \n",
    "- **JJ:** adjetivo\n",
    "- **VBD:** verbo no passado\n",
    "- **IN:** preposição\n",
    "- **DT:** determinante\n",
    "- **NNP:** nome próprio\n",
    "\n",
    "[Referência](https://www.guru99.com/pos-tagging-chunking-nltk.html)"
   ]
  },
  {
   "cell_type": "code",
   "execution_count": 43,
   "metadata": {},
   "outputs": [
    {
     "data": {
      "text/plain": [
       "[('Sokka', 'NNP'),\n",
       " ('said', 'VBD'),\n",
       " ('his', 'PRP$'),\n",
       " ('first', 'JJ'),\n",
       " ('girlfriend', 'NN'),\n",
       " ('turned', 'VBD'),\n",
       " ('into', 'IN'),\n",
       " ('the', 'DT'),\n",
       " ('moon', 'NN')]"
      ]
     },
     "execution_count": 43,
     "metadata": {},
     "output_type": "execute_result"
    }
   ],
   "source": [
    "atla.tags"
   ]
  },
  {
   "cell_type": "markdown",
   "metadata": {},
   "source": [
    "### **⛏ Extração de _noun phrases_**"
   ]
  },
  {
   "cell_type": "code",
   "execution_count": 44,
   "metadata": {},
   "outputs": [
    {
     "data": {
      "text/plain": [
       "WordList(['sokka'])"
      ]
     },
     "execution_count": 44,
     "metadata": {},
     "output_type": "execute_result"
    }
   ],
   "source": [
    "atla.noun_phrases"
   ]
  },
  {
   "cell_type": "markdown",
   "metadata": {},
   "source": [
    "### **😊 Análise de sentimentos**\n",
    "\n",
    "A propriedade _sentiment_ retorna um tuplo com a seguinte forma:\n",
    "\n",
    "        Sentiment(polarity, subjectivity)\n",
    "\n",
    "no qual:\n",
    "- **polarity:** float pertencente ao intervalo [-1.0, 1.0], onde valores negativos significam polaridade negativa e valores positivos significam polaridade positiva.\n",
    "- **subjectivity:** float pertencente ao intervalo [0.0, 1.0], onde 0.0 significa muito objetivo e 1.0 significa muito subjetivo."
   ]
  },
  {
   "cell_type": "code",
   "execution_count": 45,
   "metadata": {},
   "outputs": [
    {
     "data": {
      "text/plain": [
       "Sentiment(polarity=0.9, subjectivity=0.9)"
      ]
     },
     "execution_count": 45,
     "metadata": {},
     "output_type": "execute_result"
    }
   ],
   "source": [
    "phrase = TextBlob(\"I'm feeling really incredible.\")\n",
    "phrase.sentiment\n",
    "\n",
    "# Devolver apenas a polaridade\n",
    "#wiki.sentiment.polarity\n",
    "\n",
    "# Devolver apenas a subjetividade\n",
    "#wiki.sentiment.subjectivity"
   ]
  },
  {
   "cell_type": "markdown",
   "metadata": {},
   "source": [
    "### **🔪 Tokenização:**"
   ]
  },
  {
   "cell_type": "markdown",
   "metadata": {},
   "source": [
    "É possível repartir os TextBlobs em palavras ou em frases:"
   ]
  },
  {
   "cell_type": "code",
   "execution_count": 71,
   "metadata": {},
   "outputs": [
    {
     "data": {
      "text/plain": [
       "WordList(['Hey', 'Jude', 'do', \"n't\", 'make', 'it', 'bad', 'Take', 'a', 'sad', 'song', 'and', 'make', 'it', 'better', 'Remember', 'to', 'let', 'her', 'into', 'your', 'heart', 'then', 'you', 'can', 'start', 'to', 'make', 'it', 'better'])"
      ]
     },
     "execution_count": 71,
     "metadata": {},
     "output_type": "execute_result"
    }
   ],
   "source": [
    "jude = TextBlob(\"Hey Jude, don't make it bad. Take a sad song and make it better. \"\n",
    "                \"Remember to let her into your heart, then you can start to make it better.\")\n",
    "\n",
    "jude.words"
   ]
  },
  {
   "cell_type": "code",
   "execution_count": 72,
   "metadata": {},
   "outputs": [
    {
     "data": {
      "text/plain": [
       "[Sentence(\"Hey Jude, don't make it bad.\"),\n",
       " Sentence(\"Take a sad song and make it better.\"),\n",
       " Sentence(\"Remember to let her into your heart, then you can start to make it better.\")]"
      ]
     },
     "execution_count": 72,
     "metadata": {},
     "output_type": "execute_result"
    }
   ],
   "source": [
    "jude.sentences"
   ]
  },
  {
   "cell_type": "markdown",
   "metadata": {},
   "source": [
    "**Nota:** Os objetos _sentence_ têm as mesmas propriedades e métodos que os TextBlobs.\n",
    "\n",
    "### **📝 Inflexão de palavras e lematização**\n",
    "\n",
    "Cada palavra presente em TextBlob.words e Sentence.words é um objeto Word que contém métodos úteis, como é o caso da inflexão de palavras (colocar palavras no plural ou no singular)."
   ]
  },
  {
   "cell_type": "code",
   "execution_count": 73,
   "metadata": {},
   "outputs": [
    {
     "data": {
      "text/plain": [
       "WordList(['It', 'is', 'the', 'brain', 'the', 'little', 'grey', 'cells', 'on', 'which', 'one', 'must', 'rely', 'One', 'must', 'seek', 'the', 'truth', 'within', 'not', 'without'])"
      ]
     },
     "execution_count": 73,
     "metadata": {},
     "output_type": "execute_result"
    }
   ],
   "source": [
    "poirot = TextBlob(\"It is the brain, the little grey cells on which one must rely. One must seek the truth within - not without.\")\n",
    "poirot.words"
   ]
  },
  {
   "cell_type": "code",
   "execution_count": 74,
   "metadata": {},
   "outputs": [
    {
     "data": {
      "text/plain": [
       "'brains'"
      ]
     },
     "execution_count": 74,
     "metadata": {},
     "output_type": "execute_result"
    }
   ],
   "source": [
    "poirot.words[3].pluralize()"
   ]
  },
  {
   "cell_type": "code",
   "execution_count": 75,
   "metadata": {},
   "outputs": [
    {
     "data": {
      "text/plain": [
       "'cell'"
      ]
     },
     "execution_count": 75,
     "metadata": {},
     "output_type": "execute_result"
    }
   ],
   "source": [
    "poirot.words[7].singularize()"
   ]
  },
  {
   "cell_type": "markdown",
   "metadata": {},
   "source": [
    "Os objetos Word podem também ser lematizados através do método lemmatize:"
   ]
  },
  {
   "cell_type": "code",
   "execution_count": 100,
   "metadata": {},
   "outputs": [
    {
     "data": {
      "text/plain": [
       "'car'"
      ]
     },
     "execution_count": 100,
     "metadata": {},
     "output_type": "execute_result"
    }
   ],
   "source": [
    "from textblob import Word\n",
    "\n",
    "w1 = Word(\"cars\")\n",
    "w1.lemmatize()"
   ]
  },
  {
   "cell_type": "code",
   "execution_count": 101,
   "metadata": {},
   "outputs": [
    {
     "data": {
      "text/plain": [
       "'be'"
      ]
     },
     "execution_count": 101,
     "metadata": {},
     "output_type": "execute_result"
    }
   ],
   "source": [
    "w2 = Word(\"am\")\n",
    "\n",
    "# Indicação do part of speech, neste caso um verbo (v)\n",
    "w2.lemmatize(\"v\")"
   ]
  },
  {
   "cell_type": "markdown",
   "metadata": {},
   "source": [
    "### **📖 Integração do WordNet:**\n",
    "\n",
    "É possível obter os [synsets](https://www.geeksforgeeks.org/nlp-synsets-for-a-word-in-wordnet/) de um objeto Word, bem como consultar a definição de cada um destes:"
   ]
  },
  {
   "cell_type": "code",
   "execution_count": 102,
   "metadata": {},
   "outputs": [
    {
     "data": {
      "text/plain": [
       "[Synset('rainbow.n.01'), Synset('rainbow.n.02')]"
      ]
     },
     "execution_count": 102,
     "metadata": {},
     "output_type": "execute_result"
    }
   ],
   "source": [
    "w3 = Word(\"rainbow\")\n",
    "w3.synsets"
   ]
  },
  {
   "cell_type": "code",
   "execution_count": 103,
   "metadata": {},
   "outputs": [
    {
     "data": {
      "text/plain": [
       "[\"an arc of colored light in the sky caused by refraction of the sun's rays by rain\",\n",
       " 'an illusory hope']"
      ]
     },
     "execution_count": 103,
     "metadata": {},
     "output_type": "execute_result"
    }
   ],
   "source": [
    "w3.definitions"
   ]
  },
  {
   "cell_type": "markdown",
   "metadata": {},
   "source": [
    "### **💬 WordLists**\n",
    "\n",
    "Uma WordList é uma lista de Python com métodos adicionais."
   ]
  },
  {
   "cell_type": "code",
   "execution_count": 109,
   "metadata": {},
   "outputs": [
    {
     "data": {
      "text/plain": [
       "WordList(['potato', 'salad', 'pastry'])"
      ]
     },
     "execution_count": 109,
     "metadata": {},
     "output_type": "execute_result"
    }
   ],
   "source": [
    "food = TextBlob(\"potato salad pastry\")\n",
    "food.words"
   ]
  },
  {
   "cell_type": "code",
   "execution_count": 110,
   "metadata": {},
   "outputs": [
    {
     "data": {
      "text/plain": [
       "WordList(['potatoes', 'salads', 'pastries'])"
      ]
     },
     "execution_count": 110,
     "metadata": {},
     "output_type": "execute_result"
    }
   ],
   "source": [
    "food.words.pluralize()"
   ]
  },
  {
   "cell_type": "markdown",
   "metadata": {},
   "source": [
    "### **❌ Spelling Correction**"
   ]
  },
  {
   "cell_type": "code",
   "execution_count": 111,
   "metadata": {},
   "outputs": [
    {
     "name": "stdout",
     "output_type": "stream",
     "text": [
      "Somewhere over te rainbow\n"
     ]
    }
   ],
   "source": [
    "wrong = TextBlob(\"Somewere over te ranbow\")\n",
    "print(wrong.correct())"
   ]
  },
  {
   "cell_type": "markdown",
   "metadata": {},
   "source": [
    "Objetos do tipo Word possuem o método spellcheck() que retorna uma lista de tuplos do tipo:\n",
    "\n",
    "    (word, confidence)"
   ]
  },
  {
   "cell_type": "code",
   "execution_count": 115,
   "metadata": {},
   "outputs": [
    {
     "data": {
      "text/plain": [
       "[('rainbow', 1.0)]"
      ]
     },
     "execution_count": 115,
     "metadata": {},
     "output_type": "execute_result"
    }
   ],
   "source": [
    "wrong.words[3].spellcheck()"
   ]
  },
  {
   "cell_type": "markdown",
   "metadata": {},
   "source": [
    "O corretor presente nesta biblioteca é baseado no \"How to Write a Spelling Corrector\" do Peter Norvig e tem uma _accuracy_ de cerca de 70%.\n",
    "\n",
    "### **🧮 Obter a frequência de nomes e _noun phrases_**\n",
    "\n",
    "**1.º método:**"
   ]
  },
  {
   "cell_type": "code",
   "execution_count": 117,
   "metadata": {},
   "outputs": [
    {
     "data": {
      "text/plain": [
       "2"
      ]
     },
     "execution_count": 117,
     "metadata": {},
     "output_type": "execute_result"
    }
   ],
   "source": [
    "poirot.word_counts['one']"
   ]
  },
  {
   "cell_type": "markdown",
   "metadata": {},
   "source": [
    "Este método não é _case sensitive_!\n",
    "\n",
    "**2.º método:**"
   ]
  },
  {
   "cell_type": "code",
   "execution_count": 118,
   "metadata": {},
   "outputs": [
    {
     "data": {
      "text/plain": [
       "1"
      ]
     },
     "execution_count": 118,
     "metadata": {},
     "output_type": "execute_result"
    }
   ],
   "source": [
    "poirot.words.count('one', case_sensitive=True)"
   ]
  },
  {
   "cell_type": "markdown",
   "metadata": {},
   "source": [
    "Este método permite especificar se a nossa procura é _case\\_sensitive_ ou não através do parâmetro case_sensitive. Contudo, este é opcional e o seu valor _default_ é false.\n",
    "\n",
    "Estes métodos podem também ser utilizados em _noun phrases_:"
   ]
  },
  {
   "cell_type": "code",
   "execution_count": 120,
   "metadata": {},
   "outputs": [
    {
     "data": {
      "text/plain": [
       "1"
      ]
     },
     "execution_count": 120,
     "metadata": {},
     "output_type": "execute_result"
    }
   ],
   "source": [
    "poirot.noun_phrases.count('grey cells')"
   ]
  },
  {
   "cell_type": "markdown",
   "metadata": {},
   "source": [
    "### **🖖 Parsing** "
   ]
  },
  {
   "cell_type": "code",
   "execution_count": 121,
   "metadata": {},
   "outputs": [
    {
     "name": "stdout",
     "output_type": "stream",
     "text": [
      "And/CC/O/O the/DT/B-NP/O dreams/NNS/I-NP/O that/IN/B-PP/B-PNP you/PRP/B-NP/I-PNP dare/VB/B-VP/O to/TO/B-PP/B-PNP dream/NN/B-NP/I-PNP really/RB/B-VP/O do/VBP/I-VP/O come/VB/I-VP/O true/JJ/B-ADJP/O ././O/O\n"
     ]
    }
   ],
   "source": [
    "anotherPhrase = TextBlob(\"And the dreams that you dare to dream really do come true.\")\n",
    "print(anotherPhrase.parse())"
   ]
  },
  {
   "cell_type": "markdown",
   "metadata": {},
   "source": [
    "Este método utiliza a _pattern library_ edificada por Tom de Smedt. O link para a documentação encontra-se indisponível, por isso não consegui descodificar as tags adicionadas aos texto."
   ]
  },
  {
   "cell_type": "markdown",
   "metadata": {},
   "source": [
    "### **🐍 Os TextBlobs comportam-se como strings de Python!**"
   ]
  }
 ],
 "metadata": {
  "interpreter": {
   "hash": "40d3a090f54c6569ab1632332b64b2c03c39dcf918b08424e98f38b5ae0af88f"
  },
  "kernelspec": {
   "display_name": "",
   "language": "python",
   "name": "python3"
  },
  "language_info": {
   "codemirror_mode": {
    "name": "ipython",
    "version": 3
   },
   "file_extension": ".py",
   "mimetype": "text/x-python",
   "name": "python",
   "nbconvert_exporter": "python",
   "pygments_lexer": "ipython3",
   "version": "3.7.12"
  },
  "orig_nbformat": 4
 },
 "nbformat": 4,
 "nbformat_minor": 2
}
